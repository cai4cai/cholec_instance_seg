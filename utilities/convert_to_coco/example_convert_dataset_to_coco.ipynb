{
 "cells": [
  {
   "cell_type": "code",
   "execution_count": 1,
   "metadata": {},
   "outputs": [],
   "source": [
    "%load_ext autoreload\n",
    "%autoreload 2"
   ]
  },
  {
   "cell_type": "code",
   "execution_count": 2,
   "metadata": {},
   "outputs": [],
   "source": [
    "import sys\n",
    "sys.path.append('../..')"
   ]
  },
  {
   "cell_type": "markdown",
   "metadata": {},
   "source": [
    "## Convert from my annotation to COCO"
   ]
  },
  {
   "cell_type": "code",
   "execution_count": 5,
   "metadata": {},
   "outputs": [],
   "source": [
    "from utilities.convert_to_coco.convert_dataset_to_coco_utils import annotations_to_coco"
   ]
  },
  {
   "cell_type": "code",
   "execution_count": 7,
   "metadata": {},
   "outputs": [
    {
     "name": "stdout",
     "output_type": "stream",
     "text": [
      "currently on 0, t80_VID03_000000.png, mask t80_VID03_000000.json\n",
      "currently on 1, t80_VID03_000030.png, mask t80_VID03_000030.json\n",
      "currently on 2, t80_VID03_000060.png, mask t80_VID03_000060.json\n",
      "currently on 3, t80_VID03_000090.png, mask t80_VID03_000090.json\n",
      "currently on 4, t80_VID03_000120.png, mask t80_VID03_000120.json\n",
      "currently on 5, t80_VID03_000150.png, mask t80_VID03_000150.json\n",
      "currently on 6, t80_VID03_000180.png, mask t80_VID03_000180.json\n",
      "currently on 7, t80_VID03_000210.png, mask t80_VID03_000210.json\n",
      "currently on 8, t80_VID03_000240.png, mask t80_VID03_000240.json\n",
      "currently on 9, t80_VID03_000270.png, mask t80_VID03_000270.json\n"
     ]
    }
   ],
   "source": [
    "dataset_path = \"../../utilities/_sample_files/VID03_t80_sparse\" # enSure it contains img_dir and \n",
    "output_json_path = f\"../../utilities/_sample_results/generated_coco_files/sample_generated_coco.json\"\n",
    "annotations_to_coco(dataset_path, output_json_path, False)"
   ]
  },
  {
   "cell_type": "code",
   "execution_count": null,
   "metadata": {},
   "outputs": [],
   "source": []
  }
 ],
 "metadata": {
  "kernelspec": {
   "display_name": ".formatcholecseg8k",
   "language": "python",
   "name": "python3"
  },
  "language_info": {
   "codemirror_mode": {
    "name": "ipython",
    "version": 3
   },
   "file_extension": ".py",
   "mimetype": "text/x-python",
   "name": "python",
   "nbconvert_exporter": "python",
   "pygments_lexer": "ipython3",
   "version": "3.8.10"
  }
 },
 "nbformat": 4,
 "nbformat_minor": 2
}
