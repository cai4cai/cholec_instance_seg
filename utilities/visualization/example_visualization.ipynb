{
 "cells": [
  {
   "cell_type": "code",
   "execution_count": 1,
   "metadata": {},
   "outputs": [],
   "source": [
    "%load_ext autoreload\n",
    "%autoreload 2"
   ]
  },
  {
   "cell_type": "code",
   "execution_count": 2,
   "metadata": {},
   "outputs": [],
   "source": [
    "import sys\n",
    "sys.path.append(\"../..\")"
   ]
  },
  {
   "cell_type": "code",
   "execution_count": 3,
   "metadata": {},
   "outputs": [],
   "source": [
    "from utilities.visualization.vis_utils import VisFromLabelMeToImg"
   ]
  },
  {
   "cell_type": "code",
   "execution_count": 4,
   "metadata": {},
   "outputs": [],
   "source": [
    "img_dir = f'../_sample_files/VID03_t80_sparse/img_dir'\n",
    "ann_dir = f'../_sample_files/VID03_t80_sparse/ann_dir'\n",
    "vis_dir = f'../_sample_results/vis_dir'\n",
    "\n",
    "vis_for_reannotation_generator = VisFromLabelMeToImg(img_dir=img_dir,\n",
    "                                                    ann_dir=ann_dir,\n",
    "                                                    vis_dir=vis_dir)"
   ]
  },
  {
   "cell_type": "markdown",
   "metadata": {},
   "source": [
    "create visualization as images"
   ]
  },
  {
   "cell_type": "code",
   "execution_count": 5,
   "metadata": {},
   "outputs": [
    {
     "name": "stdout",
     "output_type": "stream",
     "text": [
      "../_sample_results/vis_dir\\t80_VID03_000000.png\n"
     ]
    },
    {
     "name": "stderr",
     "output_type": "stream",
     "text": [
      "IMAGEIO FFMPEG_WRITER WARNING: input image is not divisible by macro_block_size=16, resizing from (854, 480) to (864, 480) to ensure video compatibility with most codecs and players. To prevent resizing, make your input image divisible by the macro_block_size or set the macro_block_size to 1 (risking incompatibility).\n"
     ]
    },
    {
     "name": "stdout",
     "output_type": "stream",
     "text": [
      "../_sample_results/vis_dir\\t80_VID03_000030.png\n",
      "../_sample_results/vis_dir\\t80_VID03_000060.png\n",
      "../_sample_results/vis_dir\\t80_VID03_000090.png\n",
      "../_sample_results/vis_dir\\t80_VID03_000120.png\n",
      "../_sample_results/vis_dir\\t80_VID03_000150.png\n",
      "../_sample_results/vis_dir\\t80_VID03_000180.png\n",
      "../_sample_results/vis_dir\\t80_VID03_000210.png\n",
      "../_sample_results/vis_dir\\t80_VID03_000240.png\n",
      "../_sample_results/vis_dir\\t80_VID03_000270.png\n"
     ]
    }
   ],
   "source": [
    "vis_for_reannotation_generator.run(make_video=True,\n",
    "                                   show_img_name=False,\n",
    "                                   vid_shape = (854, 480))"
   ]
  },
  {
   "cell_type": "code",
   "execution_count": null,
   "metadata": {},
   "outputs": [],
   "source": []
  },
  {
   "cell_type": "code",
   "execution_count": null,
   "metadata": {},
   "outputs": [],
   "source": []
  },
  {
   "cell_type": "code",
   "execution_count": null,
   "metadata": {},
   "outputs": [],
   "source": []
  },
  {
   "cell_type": "code",
   "execution_count": null,
   "metadata": {},
   "outputs": [],
   "source": []
  },
  {
   "cell_type": "code",
   "execution_count": null,
   "metadata": {},
   "outputs": [],
   "source": []
  }
 ],
 "metadata": {
  "kernelspec": {
   "display_name": ".cholecinstanceseg",
   "language": "python",
   "name": "python3"
  },
  "language_info": {
   "codemirror_mode": {
    "name": "ipython",
    "version": 3
   },
   "file_extension": ".py",
   "mimetype": "text/x-python",
   "name": "python",
   "nbconvert_exporter": "python",
   "pygments_lexer": "ipython3",
   "version": "3.8.10"
  }
 },
 "nbformat": 4,
 "nbformat_minor": 2
}
