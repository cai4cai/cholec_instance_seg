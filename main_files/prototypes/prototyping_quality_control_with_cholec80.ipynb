{
 "cells": [
  {
   "cell_type": "code",
   "execution_count": 1,
   "metadata": {},
   "outputs": [],
   "source": [
    "%load_ext autoreload\n",
    "%autoreload 2"
   ]
  },
  {
   "cell_type": "code",
   "execution_count": 2,
   "metadata": {},
   "outputs": [],
   "source": [
    "import sys\n",
    "sys.path.append('../..')"
   ]
  },
  {
   "cell_type": "code",
   "execution_count": 15,
   "metadata": {},
   "outputs": [],
   "source": [
    "from static_variables.dataset_variables import CholecInstanceSegVariables \n",
    "seq_to_split_dict = CholecInstanceSegVariables.seq_to_split_dict  \n",
    "from utils.save_files import save_to_json\n",
    "from os.path import join\n",
    "import os"
   ]
  },
  {
   "cell_type": "code",
   "execution_count": 16,
   "metadata": {},
   "outputs": [],
   "source": [
    "instance_full_seqs = [seq for seq in seq_to_split_dict.keys() if seq.split('_')[-1] =='full']"
   ]
  },
  {
   "cell_type": "code",
   "execution_count": 17,
   "metadata": {},
   "outputs": [],
   "source": [
    "tool_annotations_folder_path = 'C:/Users/tal22/Downloads/datasets/Cholec80/tool_annotations/'\n",
    "save_tool_annotations_json_folder_path =  'C:/Users/tal22/Documents/repositories/generate_binary_and_instance_masks_for_cholecseg8k/datasets/quality_control_image_labels/cholec_80_classification_labels'\n"
   ]
  },
  {
   "cell_type": "code",
   "execution_count": 18,
   "metadata": {},
   "outputs": [],
   "source": [
    "def convert_tool_txt_to_tool_json(txt_path, json_save_path):\n",
    "    \n",
    "    seq_name = os.path.basename(json_save_path) \n",
    "    seq_name = seq_name.split('.')[0]\n",
    "    \n",
    "    with open(txt_path, 'r') as file:\n",
    "        data = file.read()\n",
    "    \n",
    "    # Split the data into lines\n",
    "    lines = data.split('\\n')\n",
    "\n",
    "    # Extract the first line as headers (tool names)\n",
    "    headers = lines[0].split('\\t')[1:-1]  # Ignore 'Frame' and 'SpecimenBag'\n",
    "    headers = [class_name.lower() for class_name in headers]\n",
    "\n",
    "    # Initialize the dictionary\n",
    "    tool_dict = {}\n",
    "\n",
    "    # Iterate over the remaining lines\n",
    "    for line in lines[1:]:\n",
    "        # Split the line into components\n",
    "        parts = line.split('\\t')\n",
    "        \n",
    "        if parts == ['']:\n",
    "            continue\n",
    "        \n",
    "        # Get the frame number (as integer divided by 25)\n",
    "        frame_index = str(int(parts[0]) // 25).zfill(6)\n",
    "        \n",
    "        # Initialize the list of tools for this frame\n",
    "        tools_present = []\n",
    "        \n",
    "        # Check each tool's value; if it's '1', add the tool's name to the list\n",
    "        for tool_index, value in enumerate(parts[1:-1]):  # Ignore 'SpecimenBag' value\n",
    "            if int(value) == 1:\n",
    "                tools_present.append(headers[tool_index])\n",
    "        \n",
    "        # Assign the list of tools to the frame index in the dictionary\n",
    "        dict_key = f't50_{seq_name}_{frame_index}' \n",
    "        tool_dict[dict_key] = tools_present\n",
    "    \n",
    "    save_to_json(tool_dict, json_save_path)    "
   ]
  },
  {
   "cell_type": "code",
   "execution_count": 24,
   "metadata": {},
   "outputs": [],
   "source": [
    "all_cholec_80_seqs = [str(seq_num).zfill(2) for seq_num in range(1,81) ]"
   ]
  },
  {
   "cell_type": "code",
   "execution_count": 25,
   "metadata": {},
   "outputs": [
    {
     "data": {
      "text/plain": [
       "['01',\n",
       " '02',\n",
       " '03',\n",
       " '04',\n",
       " '05',\n",
       " '06',\n",
       " '07',\n",
       " '08',\n",
       " '09',\n",
       " '10',\n",
       " '11',\n",
       " '12',\n",
       " '13',\n",
       " '14',\n",
       " '15',\n",
       " '16',\n",
       " '17',\n",
       " '18',\n",
       " '19',\n",
       " '20',\n",
       " '21',\n",
       " '22',\n",
       " '23',\n",
       " '24',\n",
       " '25',\n",
       " '26',\n",
       " '27',\n",
       " '28',\n",
       " '29',\n",
       " '30',\n",
       " '31',\n",
       " '32',\n",
       " '33',\n",
       " '34',\n",
       " '35',\n",
       " '36',\n",
       " '37',\n",
       " '38',\n",
       " '39',\n",
       " '40',\n",
       " '41',\n",
       " '42',\n",
       " '43',\n",
       " '44',\n",
       " '45',\n",
       " '46',\n",
       " '47',\n",
       " '48',\n",
       " '49',\n",
       " '50',\n",
       " '51',\n",
       " '52',\n",
       " '53',\n",
       " '54',\n",
       " '55',\n",
       " '56',\n",
       " '57',\n",
       " '58',\n",
       " '59',\n",
       " '60',\n",
       " '61',\n",
       " '62',\n",
       " '63',\n",
       " '64',\n",
       " '65',\n",
       " '66',\n",
       " '67',\n",
       " '68',\n",
       " '69',\n",
       " '70',\n",
       " '71',\n",
       " '72',\n",
       " '73',\n",
       " '74',\n",
       " '75',\n",
       " '76',\n",
       " '77',\n",
       " '78',\n",
       " '79',\n",
       " '80']"
      ]
     },
     "execution_count": 25,
     "metadata": {},
     "output_type": "execute_result"
    }
   ],
   "source": [
    "all_cholec_80_seqs"
   ]
  },
  {
   "cell_type": "code",
   "execution_count": 26,
   "metadata": {},
   "outputs": [],
   "source": [
    "for seq_id in all_cholec_80_seqs:\n",
    "    txt_name = f'video{seq_id}-tool.txt'\n",
    "    json_name = f'VID{seq_id}.json'\n",
    "    txt_path = join(tool_annotations_folder_path, txt_name)\n",
    "    json_save_path = join(save_tool_annotations_json_folder_path, json_name)\n",
    "    convert_tool_txt_to_tool_json(txt_path, json_save_path)\n"
   ]
  },
  {
   "cell_type": "code",
   "execution_count": 7,
   "metadata": {},
   "outputs": [],
   "source": [
    "# for seq in instance_full_seqs:\n",
    "#     seq_id = seq.split('_')[0][3:]\n",
    "#     txt_name = f'video{seq_id}-tool.txt'\n",
    "#     json_name = f'VID{seq_id}.json'\n",
    "#     txt_path = join(tool_annotations_folder_path, txt_name)\n",
    "#     json_save_path = join(save_tool_annotations_json_folder_path, json_name)\n",
    "#     convert_tool_txt_to_tool_json(txt_path, json_save_path)\n",
    "    \n",
    "    \n",
    "   "
   ]
  },
  {
   "cell_type": "markdown",
   "metadata": {},
   "source": [
    "### Convert my labels to just classification labels. "
   ]
  },
  {
   "cell_type": "markdown",
   "metadata": {},
   "source": [
    "We need to get all the class names present then turn that to a tuple store that as a json with the file names. Then compare jsons"
   ]
  },
  {
   "cell_type": "code",
   "execution_count": 28,
   "metadata": {},
   "outputs": [],
   "source": [
    "import sys\n",
    "sys.path.append('../..')"
   ]
  },
  {
   "cell_type": "code",
   "execution_count": 59,
   "metadata": {},
   "outputs": [],
   "source": [
    "from static_variables.dataset_variables import CholecInstanceSegVariables \n",
    "seq_to_split_dict = CholecInstanceSegVariables.seq_to_split_dict  \n",
    "from utils.save_files import save_to_json\n",
    "from utils.read_files import read_from_json\n",
    "from os.path import join\n",
    "import os"
   ]
  },
  {
   "cell_type": "code",
   "execution_count": 60,
   "metadata": {},
   "outputs": [],
   "source": [
    "dataset_partition_path =  'C:/Users/tal22/Documents/repositories/generate_binary_and_instance_masks_for_cholecseg8k/datasets/instance_cholec_v6_during_quality_control/Instance_CholecT50_sparse'\n",
    "save_dataset_partition_classification_labels_path =  'C:/Users/tal22/Documents/repositories/generate_binary_and_instance_masks_for_cholecseg8k/datasets/quality_control_image_labels/classification_instance_cholec_T50_sparse'"
   ]
  },
  {
   "cell_type": "code",
   "execution_count": 61,
   "metadata": {},
   "outputs": [],
   "source": [
    "def generate_classification_labels_for_seq(seq_path):\n",
    "    ann_dir_path = join(seq_path, 'ann_dir')\n",
    "    \n",
    "    classification_labels_for_seq = {}\n",
    "    \n",
    "    for ann in os.listdir(ann_dir_path):\n",
    "        ann_name_no_ext = ann.split('.')[0]\n",
    "        ann_path = join(ann_dir_path, ann)\n",
    "        \n",
    "        data = read_from_json(ann_path) \n",
    "        classes_in_img = []\n",
    "        for instance_info in data['shapes']:\n",
    "            class_name = instance_info['label']\n",
    "            if class_name not in classes_in_img:\n",
    "                classes_in_img.append(class_name)\n",
    "                \n",
    "\n",
    "        classification_labels_for_seq[ann_name_no_ext] = classes_in_img \n",
    "    \n",
    "    return  classification_labels_for_seq      \n",
    "        \n",
    "          \n",
    "    "
   ]
  },
  {
   "cell_type": "code",
   "execution_count": 62,
   "metadata": {},
   "outputs": [],
   "source": [
    "def generate_and_save_classification_labels_for_dataset_partition(dataset_path, save_classification_path):\n",
    "    for seq_name in os.listdir(dataset_path):\n",
    "        seq_path = join(dataset_path, seq_name)\n",
    "        classification_labels_for_seq = generate_classification_labels_for_seq(seq_path)\n",
    "        save_to_json(classification_labels_for_seq, f'{join(save_classification_path, seq_name)}.json' )\n",
    "    "
   ]
  },
  {
   "cell_type": "code",
   "execution_count": 63,
   "metadata": {},
   "outputs": [],
   "source": [
    "generate_and_save_classification_labels_for_dataset_partition(dataset_partition_path, \n",
    "                                                                    save_dataset_partition_classification_labels_path)"
   ]
  },
  {
   "cell_type": "markdown",
   "metadata": {},
   "source": [
    "## Make a list of if there are complete subsets.  "
   ]
  },
  {
   "cell_type": "code",
   "execution_count": 64,
   "metadata": {},
   "outputs": [],
   "source": [
    "def get_the_labels_with_differences(cholec_80_classification_dir, dataset_patition_classification_dir,  log_save_dir):\n",
    "    seq_ids = [seq.split('_')[0][3:] for seq in  os.listdir(dataset_patition_classification_dir) ]\n",
    "    for classification_ann_name in os.listdir(dataset_patition_classification_dir):\n",
    "        seq_id = classification_ann_name.split('_')[0][3:]\n",
    "        if int(seq_id) <= 80:  #we only have 80 for quality control\n",
    "            cholec_80_classification_path = join(cholec_80_classification_dir, f'VID{seq_id}.json')\n",
    "            dataset_partition_classification_path = join(dataset_patition_classification_dir, classification_ann_name)\n",
    "            \n",
    "\n",
    "            cholec_80_seq_classification_labels = read_from_json(cholec_80_classification_path)\n",
    "            dataset_partition_seq_classification_labels = read_from_json(dataset_partition_classification_path)\n",
    "\n",
    "            diff_for_seq = {}\n",
    "            for label_name, cholec80_classification_labels_for_a_label in cholec_80_seq_classification_labels.items():\n",
    "                if label_name in dataset_partition_seq_classification_labels:\n",
    "                    dataset_partition_classification_labels_for_a_label =  dataset_partition_seq_classification_labels[label_name]\n",
    "                    set_cholec80 = set(cholec80_classification_labels_for_a_label)\n",
    "                    set_cholect50_full = set(dataset_partition_classification_labels_for_a_label)\n",
    "\n",
    "                    if not set_cholec80.issubset(set_cholect50_full):\n",
    "                        diff_for_seq[label_name] = list(set_cholec80 - set_cholect50_full)\n",
    "            \n",
    "            save_to_json(diff_for_seq, join(log_save_dir, classification_ann_name) )\n",
    "            \n",
    "                # print(f'{label_name} - missing labels - {set_cholec80 - set_cholect50_full}')"
   ]
  },
  {
   "cell_type": "code",
   "execution_count": 65,
   "metadata": {},
   "outputs": [],
   "source": [
    "cholec_80_classification_dir = 'C:/Users/tal22/Documents/repositories/generate_binary_and_instance_masks_for_cholecseg8k/datasets/quality_control_image_labels/cholec_80_classification_labels'\n",
    "dataset_patition_classification_dir = 'C:/Users/tal22/Documents/repositories/generate_binary_and_instance_masks_for_cholecseg8k/datasets/quality_control_image_labels/classification_instance_cholec_T50_sparse'\n",
    "\n",
    "log_save_dir = '../../logs/cholec80_quality_control_cholecT50_sparse_second'\n",
    "\n",
    "seq_names = os.listdir(dataset_patition_classification_dir) "
   ]
  },
  {
   "cell_type": "code",
   "execution_count": 66,
   "metadata": {},
   "outputs": [],
   "source": [
    "get_the_labels_with_differences(cholec_80_classification_dir, dataset_patition_classification_dir,  log_save_dir)"
   ]
  },
  {
   "cell_type": "code",
   "execution_count": null,
   "metadata": {},
   "outputs": [],
   "source": []
  },
  {
   "cell_type": "code",
   "execution_count": null,
   "metadata": {},
   "outputs": [],
   "source": []
  }
 ],
 "metadata": {
  "kernelspec": {
   "display_name": ".cholecinstanceseg",
   "language": "python",
   "name": "python3"
  },
  "language_info": {
   "codemirror_mode": {
    "name": "ipython",
    "version": 3
   },
   "file_extension": ".py",
   "mimetype": "text/x-python",
   "name": "python",
   "nbconvert_exporter": "python",
   "pygments_lexer": "ipython3",
   "version": "3.8.10"
  }
 },
 "nbformat": 4,
 "nbformat_minor": 2
}
