{
 "cells": [
  {
   "cell_type": "code",
   "execution_count": 7,
   "metadata": {},
   "outputs": [
    {
     "name": "stdout",
     "output_type": "stream",
     "text": [
      "The autoreload extension is already loaded. To reload it, use:\n",
      "  %reload_ext autoreload\n"
     ]
    }
   ],
   "source": [
    "%load_ext autoreload\n",
    "%autoreload 2"
   ]
  },
  {
   "cell_type": "code",
   "execution_count": 8,
   "metadata": {},
   "outputs": [],
   "source": [
    "import sys\n",
    "sys.path.append(\"../..\")\n",
    "from utils.dataset_metadata import DatasetMetadata"
   ]
  },
  {
   "cell_type": "code",
   "execution_count": 11,
   "metadata": {},
   "outputs": [],
   "source": [
    "path_to_dataset = 'C:/Users/tal22/Documents/repositories/generate_binary_and_instance_masks_for_cholecseg8k/datasets/final_cholecinstanceseg'\n",
    "dataset_name = 'cholecinstanceseg'\n",
    "dataset_folder_style = \"dataset_split\""
   ]
  },
  {
   "cell_type": "code",
   "execution_count": 12,
   "metadata": {},
   "outputs": [
    {
     "name": "stdout",
     "output_type": "stream",
     "text": [
      "all sequences can be found\n"
     ]
    }
   ],
   "source": [
    "dataset = DatasetMetadata(path_to_dataset=path_to_dataset,\n",
    "                        dataset_name=dataset_name,\n",
    "                        dataset_folder_style=dataset_folder_style)\n",
    "                "
   ]
  },
  {
   "cell_type": "code",
   "execution_count": 13,
   "metadata": {},
   "outputs": [],
   "source": [
    "dataset_metadata = dataset.get_dataset_metadata()"
   ]
  },
  {
   "cell_type": "markdown",
   "metadata": {},
   "source": [
    "## Count images"
   ]
  },
  {
   "cell_type": "code",
   "execution_count": 14,
   "metadata": {},
   "outputs": [],
   "source": [
    "from dataset_analysis_scripts.count_files import count_sizes_in_my_dataset"
   ]
  },
  {
   "cell_type": "code",
   "execution_count": 15,
   "metadata": {},
   "outputs": [
    {
     "name": "stdout",
     "output_type": "stream",
     "text": [
      "Entering base data structure\n",
      "   Entering sub-dictionary key 'test'\n",
      "      size of seq 'VID07_t80_sparse': 152\n",
      "      size of seq 'VID09_seg8k': 240\n",
      "      size of seq 'VID14_t50_full': 1709\n",
      "      size of seq 'VID15_t50_full': 2059\n",
      "      size of seq 'VID16_t80_sparse': 99\n",
      "      size of seq 'VID20_seg8k': 160\n",
      "      size of seq 'VID21_t80_sparse': 59\n",
      "      size of seq 'VID22_t50_full': 1533\n",
      "      size of seq 'VID24_seg8k': 960\n",
      "      size of seq 'VID29_t50_full': 2351\n",
      "      size of seq 'VID33_t80_sparse': 59\n",
      "      size of seq 'VID38_t80_sparse': 103\n",
      "      size of seq 'VID41_t80_sparse': 104\n",
      "      size of seq 'VID45_t80_sparse': 113\n",
      "      size of seq 'VID53_t80_sparse': 110\n",
      "      size of seq 'VID55_seg8k': 240\n",
      "      size of seq 'VID58_t80_sparse': 200\n",
      "      size of seq 'VID61_t80_sparse': 147\n",
      "      size of seq 'VID64_t80_sparse': 80\n",
      "      size of seq 'VID69_t80_sparse': 153\n",
      "      size of seq 'VID72_t80_sparse': 104\n",
      "      size of seq 'VID77_t80_sparse': 84\n",
      "   Total count in sub-dictionary at key 'test': 10819\n",
      "   Entering sub-dictionary key 'train'\n",
      "      size of seq 'VID01_seg8k': 1280\n",
      "      size of seq 'VID01_t50_full': 1734\n",
      "      size of seq 'VID02_t50_sparse': 124\n",
      "      size of seq 'VID04_t50_sparse': 70\n",
      "      size of seq 'VID05_t50_sparse': 103\n",
      "      size of seq 'VID06_t50_sparse': 93\n",
      "      size of seq 'VID08_t50_sparse': 64\n",
      "      size of seq 'VID103_t50_sparse': 74\n",
      "      size of seq 'VID10_t50_sparse': 59\n",
      "      size of seq 'VID110_t50_sparse': 73\n",
      "      size of seq 'VID111_t50_sparse': 72\n",
      "      size of seq 'VID12_seg8k': 640\n",
      "      size of seq 'VID12_t50_full': 1091\n",
      "      size of seq 'VID13_t50_sparse': 55\n",
      "      size of seq 'VID18_seg8k': 160\n",
      "      size of seq 'VID18_t50_full': 1943\n",
      "      size of seq 'VID25_seg8k': 320\n",
      "      size of seq 'VID25_t50_full': 2130\n",
      "      size of seq 'VID26_seg8k': 320\n",
      "      size of seq 'VID26_t50_full': 1774\n",
      "      size of seq 'VID27_seg8k': 400\n",
      "      size of seq 'VID27_t50_full': 2085\n",
      "      size of seq 'VID31_t50_sparse': 132\n",
      "      size of seq 'VID32_t50_sparse': 71\n",
      "      size of seq 'VID35_seg8k': 240\n",
      "      size of seq 'VID35_t50_full': 2107\n",
      "      size of seq 'VID36_t50_sparse': 80\n",
      "      size of seq 'VID40_t50_sparse': 75\n",
      "      size of seq 'VID42_t50_sparse': 124\n",
      "      size of seq 'VID43_seg8k': 720\n",
      "      size of seq 'VID43_t50_full': 2363\n",
      "      size of seq 'VID47_t50_sparse': 76\n",
      "      size of seq 'VID48_seg8k': 240\n",
      "      size of seq 'VID48_t50_full': 1835\n",
      "      size of seq 'VID49_t50_sparse': 56\n",
      "      size of seq 'VID50_t50_sparse': 63\n",
      "      size of seq 'VID51_t50_sparse': 99\n",
      "      size of seq 'VID52_seg8k': 800\n",
      "      size of seq 'VID52_t50_full': 1967\n",
      "      size of seq 'VID56_t50_sparse': 62\n",
      "      size of seq 'VID57_t50_sparse': 88\n",
      "      size of seq 'VID60_t50_sparse': 85\n",
      "      size of seq 'VID62_t50_sparse': 68\n",
      "      size of seq 'VID65_t50_sparse': 63\n",
      "      size of seq 'VID66_t50_sparse': 61\n",
      "      size of seq 'VID68_t50_sparse': 66\n",
      "      size of seq 'VID70_t50_sparse': 69\n",
      "      size of seq 'VID73_t50_sparse': 78\n",
      "      size of seq 'VID74_t50_sparse': 55\n",
      "      size of seq 'VID75_t50_sparse': 65\n",
      "      size of seq 'VID78_t50_sparse': 58\n",
      "      size of seq 'VID79_t50_sparse': 114\n",
      "      size of seq 'VID80_t50_sparse': 58\n",
      "      size of seq 'VID92_t50_sparse': 71\n",
      "      size of seq 'VID96_t50_sparse': 57\n",
      "   Total count in sub-dictionary at key 'train': 26830\n",
      "   Entering sub-dictionary key 'val'\n",
      "      size of seq 'VID03_t80_sparse': 195\n",
      "      size of seq 'VID11_t80_sparse': 108\n",
      "      size of seq 'VID17_seg8k': 320\n",
      "      size of seq 'VID19_t80_sparse': 81\n",
      "      size of seq 'VID23_t50_full': 1636\n",
      "      size of seq 'VID28_seg8k': 560\n",
      "      size of seq 'VID30_t80_sparse': 98\n",
      "      size of seq 'VID34_t80_sparse': 60\n",
      "      size of seq 'VID37_seg8k': 480\n",
      "      size of seq 'VID39_t80_sparse': 55\n",
      "      size of seq 'VID44_t80_sparse': 105\n",
      "      size of seq 'VID46_t80_sparse': 56\n",
      "      size of seq 'VID54_t80_sparse': 104\n",
      "      size of seq 'VID59_t80_sparse': 59\n",
      "      size of seq 'VID63_t80_sparse': 115\n",
      "      size of seq 'VID67_t80_sparse': 79\n",
      "      size of seq 'VID71_t80_sparse': 84\n",
      "      size of seq 'VID76_t80_sparse': 89\n",
      "   Total count in sub-dictionary at key 'val': 4284\n",
      "Total count images in the dataset: 41933\n"
     ]
    }
   ],
   "source": [
    "total_count = count_sizes_in_my_dataset(dataset_metadata)\n",
    "print(f\"Total count images in the dataset: {total_count}\")\n"
   ]
  }
 ],
 "metadata": {
  "kernelspec": {
   "display_name": ".cholecinstanceseg",
   "language": "python",
   "name": "python3"
  },
  "language_info": {
   "codemirror_mode": {
    "name": "ipython",
    "version": 3
   },
   "file_extension": ".py",
   "mimetype": "text/x-python",
   "name": "python",
   "nbconvert_exporter": "python",
   "pygments_lexer": "ipython3",
   "version": "3.8.10"
  }
 },
 "nbformat": 4,
 "nbformat_minor": 2
}
