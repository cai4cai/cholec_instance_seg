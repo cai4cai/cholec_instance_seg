{
 "cells": [
  {
   "cell_type": "markdown",
   "metadata": {},
   "source": [
    "## Move dataset around. \n",
    "\n",
    "I need to write six functions, well only three, but the other three will use the other three functions. "
   ]
  },
  {
   "cell_type": "code",
   "execution_count": 1,
   "metadata": {},
   "outputs": [],
   "source": [
    "%load_ext autoreload\n",
    "%autoreload 2"
   ]
  },
  {
   "cell_type": "code",
   "execution_count": 2,
   "metadata": {},
   "outputs": [],
   "source": [
    "import sys\n",
    "sys.path.append('../..')"
   ]
  },
  {
   "cell_type": "code",
   "execution_count": 3,
   "metadata": {},
   "outputs": [],
   "source": [
    "from static_variables.dataset_variables import CholecInstanceSegVariables\n",
    "import shutil\n",
    "import os\n",
    "from os.path import join\n",
    "from utils.dataset_conversion_split_partition import generate_split_to_seq_dict, dataset_partition_to_dataset_split, dataset_split_to_dataset_partition"
   ]
  },
  {
   "cell_type": "code",
   "execution_count": 4,
   "metadata": {},
   "outputs": [],
   "source": [
    "dataset_dir = 'C:/Users/tal22/Documents/repositories/generate_binary_and_instance_masks_for_cholecseg8k/datasets/instance_cholec_v6_during_quality_control'"
   ]
  },
  {
   "cell_type": "code",
   "execution_count": 5,
   "metadata": {},
   "outputs": [],
   "source": [
    "seq_to_split_dict = CholecInstanceSegVariables.seq_to_split_dict\n",
    "split_to_seq_dict = generate_split_to_seq_dict()\n"
   ]
  },
  {
   "cell_type": "code",
   "execution_count": 6,
   "metadata": {},
   "outputs": [
    {
     "name": "stdout",
     "output_type": "stream",
     "text": [
      "all sequences can be found\n",
      "dataset_split_to_dataset_partition completed\n"
     ]
    }
   ],
   "source": [
    "dataset_split_to_dataset_partition(dataset_dir, split_to_seq_dict)"
   ]
  },
  {
   "cell_type": "code",
   "execution_count": 7,
   "metadata": {},
   "outputs": [
    {
     "name": "stdout",
     "output_type": "stream",
     "text": [
      "all sequences can be found\n",
      "dataset_partition_to_dataset_split completed\n"
     ]
    }
   ],
   "source": [
    "dataset_partition_to_dataset_split(dataset_dir, seq_to_split_dict)"
   ]
  },
  {
   "cell_type": "code",
   "execution_count": 26,
   "metadata": {},
   "outputs": [],
   "source": [
    "# def generate_split_to_seq_dict():\n",
    "#     from static_variables.dataset_variables import CholecInstanceSegVariables\n",
    "#     seq_to_split_dict = CholecInstanceSegVariables.seq_to_split_dict\n",
    "#     split_to_seq_dict = {} \n",
    "#     for key, value in  seq_to_split_dict.items():\n",
    "#         if value in split_to_seq_dict:\n",
    "#             split_to_seq_dict[value].append(key)  \n",
    "#         else:\n",
    "#             split_to_seq_dict[value] = [key]   \n",
    "#     return split_to_seq_dict"
   ]
  },
  {
   "cell_type": "code",
   "execution_count": 87,
   "metadata": {},
   "outputs": [],
   "source": [
    "# def dataset_split_to_dataset_partition(dataset_dir, split_to_seq_dict):\n",
    "#     from collections import Counter\n",
    "#     current_dataset_partition  = os.listdir(dataset_dir)\n",
    "#     assert Counter(current_dataset_partition) == Counter(['readMe.txt', 'test', 'train', 'val']), \"The dataset directory does not contain exactly train, test, val and readMe.txt\"  \n",
    "        \n",
    "#     ## assert that dataset contains the correct sequences.\n",
    "#     for split, seqs in split_to_seq_dict.items():\n",
    "#         seqs_in_split = os.listdir(join(dataset_dir, split))\n",
    "#         for seq in seqs:\n",
    "#             assert seq in seqs_in_split,  f'{seq} is missing from the {split} split of the dataset'  \n",
    "    \n",
    "#     print('all sequences can be found')            \n",
    "\n",
    "#     ## create the new folders. \n",
    "#     Instance_CholecSeg8k_path = join(dataset_dir, 'Instance_CholecSeg8k')\n",
    "#     Instance_CholecT50_full_path = join(dataset_dir, 'Instance_CholecT50_full')\n",
    "#     Instance_CholecT50_sparse_path = join(dataset_dir, 'Instance_CholecT50_sparse')    \n",
    "#     os.makedirs(Instance_CholecSeg8k_path)\n",
    "#     os.makedirs(Instance_CholecT50_full_path) \n",
    "#     os.makedirs(Instance_CholecT50_sparse_path)             \n",
    "\n",
    "#      ## move files                \n",
    "#     for split in current_dataset_partition:\n",
    "#         if os.path.isdir(join(dataset_dir, split)):\n",
    "#             for seq in os.listdir(join(dataset_dir, split)):\n",
    "#                 partition_name = seq.split('_')[-1]\n",
    "#                 seq_path = join(dataset_dir, split, seq)\n",
    "#                 if partition_name == 'full':\n",
    "#                     shutil.move(seq_path, Instance_CholecT50_full_path)\n",
    "#                 elif partition_name == 'seg8k':\n",
    "#                     shutil.move(seq_path, Instance_CholecSeg8k_path)    \n",
    "#                 elif partition_name == 'sparse':\n",
    "#                     shutil.move(seq_path, Instance_CholecT50_sparse_path)       \n",
    "#                 else:\n",
    "#                     raise ValueError(f'{seq} in {split} is an unknown file')    \n",
    "#                 # print(f'seq {seq} completed')  \n",
    "#                 # print(f'seq_path {seq_path} completed')  \n",
    "#             os.rmdir(join(dataset_dir, split))      \n",
    "    \n",
    "#     print('dataset_split_to_dataset_partition completed')\n"
   ]
  },
  {
   "cell_type": "code",
   "execution_count": 89,
   "metadata": {},
   "outputs": [],
   "source": [
    "# def dataset_partition_to_dataset_split(dataset_dir, seq_to_split_dict):\n",
    "#     from collections import Countera\n",
    "#     current_dataset_partition  = os.listdir(dataset_dir)\n",
    "#     assert Counter(current_dataset_partition) == Counter(['Instance_CholecSeg8k',\n",
    "#                                                         'Instance_CholecT50_full',\n",
    "#                                                         'Instance_CholecT50_sparse', \n",
    "#                                                         'readMe.txt']), \"The dataset directory does not contain exactly Instance_CholecSeg8k, Instance_CholecT50_full, Instance_CholecT50_sparse and readMe.txt\"  \n",
    "            \n",
    "#     ## assert that dataset partitions contains the correct sequences.\n",
    "#     Instance_CholecSeg8k_seqs = os.listdir(join(dataset_dir,'Instance_CholecSeg8k'))\n",
    "#     Instance_CholecT50_full_seqs = os.listdir(join(dataset_dir,'Instance_CholecT50_full'))\n",
    "#     Instance_CholecT50_sparse_seqs = os.listdir(join(dataset_dir,'Instance_CholecT50_sparse'))\n",
    "    \n",
    "    \n",
    "    \n",
    "    \n",
    "#     for seq in seq_to_split_dict.keys():\n",
    "#         partition_name = seq.split('_')[-1]\n",
    "#         if partition_name == 'full':\n",
    "#             assert seq in Instance_CholecT50_full_seqs,  f'{seq} is missing from the Instance_CholecT50_full partition of the dataset'  \n",
    "#         elif partition_name == 'seg8k':\n",
    "#             assert seq in Instance_CholecSeg8k_seqs,  f'{seq} is missing from the Instance_CholecSeg8k partition of the dataset'\n",
    "#         elif partition_name == 'sparse':\n",
    "#             assert seq in Instance_CholecT50_sparse_seqs,  f'{seq} is missing from the Instance_CholecT50_sparse partition of the dataset'    \n",
    "#         else:\n",
    "#             raise ValueError(f'something is wrong with the static variable that generated seq_to_split_dict, {seq} is not accounted for')  \n",
    "        \n",
    "        \n",
    "    \n",
    "#     print('all sequences can be found')\n",
    "    \n",
    "#     ## create the new folders. \n",
    "#     train_path = join(dataset_dir, 'train')\n",
    "#     test_path = join(dataset_dir, 'test')\n",
    "#     val_path = join(dataset_dir, 'val')    \n",
    "#     os.makedirs(train_path)\n",
    "#     os.makedirs(test_path) \n",
    "#     os.makedirs(val_path)    \n",
    "    \n",
    "    \n",
    "#     for partition in current_dataset_partition:\n",
    "#         if os.path.isdir(join(dataset_dir, partition)):\n",
    "#             for seq in os.listdir(join(dataset_dir, partition)):\n",
    "#                 split = seq_to_split_dict[seq]\n",
    "#                 seq_path = join(dataset_dir, partition, seq)\n",
    "                \n",
    "#                 if split == 'train':\n",
    "#                     shutil.move(seq_path, train_path)\n",
    "#                 elif split == 'test':\n",
    "#                     shutil.move(seq_path, test_path)    \n",
    "#                 elif split == 'val':\n",
    "#                     shutil.move(seq_path, val_path)       \n",
    "#                 else:\n",
    "#                     raise ValueError(f'{seq} in {partition} is an unknown file')    \n",
    "                \n",
    "#             os.rmdir(join(dataset_dir, partition))  \n",
    "            \n",
    "#     print('dataset_partition_to_dataset_split completed')"
   ]
  },
  {
   "cell_type": "markdown",
   "metadata": {},
   "source": [
    "## Create single folder form "
   ]
  },
  {
   "cell_type": "code",
   "execution_count": 1,
   "metadata": {},
   "outputs": [],
   "source": [
    "%load_ext autoreload\n",
    "%autoreload 2"
   ]
  },
  {
   "cell_type": "code",
   "execution_count": 2,
   "metadata": {},
   "outputs": [],
   "source": [
    "import sys\n",
    "sys.path.append('../..')"
   ]
  },
  {
   "cell_type": "code",
   "execution_count": 36,
   "metadata": {},
   "outputs": [],
   "source": [
    "from static_variables.dataset_variables import CholecInstanceSegVariables\n",
    "import shutil\n",
    "import os\n",
    "from os.path import join\n",
    "from utils.dataset_conversion_split_partition import generate_split_to_seq_dict, dataset_partition_to_single_folder, single_folder_to_dataset_partition, single_folder_to_dataset_split, dataset_split_to_single_folder"
   ]
  },
  {
   "cell_type": "code",
   "execution_count": 37,
   "metadata": {},
   "outputs": [],
   "source": [
    "seq_to_split_dict = CholecInstanceSegVariables.seq_to_split_dict\n",
    "split_to_seq_dict = generate_split_to_seq_dict()\n"
   ]
  },
  {
   "cell_type": "code",
   "execution_count": 38,
   "metadata": {},
   "outputs": [],
   "source": [
    "dataset_dir = 'C:/Users/tal22/Documents/repositories/generate_binary_and_instance_masks_for_cholecseg8k/datasets/instance_cholec_v7_during_quality_control'"
   ]
  },
  {
   "cell_type": "code",
   "execution_count": 41,
   "metadata": {},
   "outputs": [
    {
     "name": "stdout",
     "output_type": "stream",
     "text": [
      "dataset_partition_to_single_folder completed\n"
     ]
    }
   ],
   "source": [
    "dataset_partition_to_single_folder(dataset_dir, seq_to_split_dict) "
   ]
  },
  {
   "cell_type": "code",
   "execution_count": 40,
   "metadata": {},
   "outputs": [
    {
     "name": "stdout",
     "output_type": "stream",
     "text": [
      "single_folder_to_dataset_partition completed\n"
     ]
    }
   ],
   "source": [
    "single_folder_to_dataset_partition(dataset_dir, seq_to_split_dict) "
   ]
  },
  {
   "cell_type": "code",
   "execution_count": null,
   "metadata": {},
   "outputs": [],
   "source": [
    "single_folder_to_dataset_split(dataset_dir, seq_to_split_dict) "
   ]
  },
  {
   "cell_type": "code",
   "execution_count": 44,
   "metadata": {},
   "outputs": [
    {
     "name": "stdout",
     "output_type": "stream",
     "text": [
      "dataset_split_to_single_folder completed\n"
     ]
    }
   ],
   "source": [
    "dataset_split_to_single_folder(dataset_dir, split_to_seq_dict)"
   ]
  },
  {
   "cell_type": "code",
   "execution_count": 30,
   "metadata": {},
   "outputs": [],
   "source": [
    "# def dataset_split_to_single_folder(dataset_dir, split_to_seq_dict): \n",
    "#     current_dataset_dir  = os.listdir(dataset_dir)\n",
    "#     assert set(current_dataset_dir) == set(['readMe.txt', 'test', 'train', 'val']), \"The dataset directory does not contain exactly train, test, val and readMe.txt\"  \n",
    "            \n",
    "#     ## assert that dataset split contains the correct sequences.\n",
    "#     for split, expected_seqs in split_to_seq_dict.items():\n",
    "#         seqs_in_split = os.listdir(join(dataset_dir, split))\n",
    "#         assert set(seqs_in_split) == set(expected_seqs),  f'the expected sequences for {split}-split is not equal to the sequences in the dir, diff {set(seqs_in_split) ^ set(expected_seqs)}'  \n",
    "        \n",
    "#     ## move files\n",
    "#     for split in current_dataset_dir:\n",
    "#         if os.path.isdir(join(dataset_dir, split)):\n",
    "#             for seq in os.listdir(join(dataset_dir, split)):\n",
    "#                 seq_path = join(dataset_dir, split, seq)\n",
    "#                 shutil.move(seq_path, dataset_dir)    \n",
    "#             os.rmdir(join(dataset_dir, split)) \n",
    "            \n",
    "#     print('dataset_split_to_single_folder completed')        "
   ]
  },
  {
   "cell_type": "code",
   "execution_count": 22,
   "metadata": {},
   "outputs": [],
   "source": [
    "# def single_folder_to_dataset_split(dataset_dir, seq_to_split_dict):\n",
    "#     ## assert that all the folders are present\n",
    "#     expected_seq_folders = list(seq_to_split_dict.keys()) + ['readMe.txt']\n",
    "#     current_dataset_dir  = os.listdir(dataset_dir) #store before adding new directories \n",
    "#     assert set(expected_seq_folders) == set(current_dataset_dir), f'the dataset dir does not match with what is expected - {set(expected_seq_folders) ^ set(current_dataset_dir)}'\n",
    "    \n",
    "#     ## create the new folders. \n",
    "#     train_path = join(dataset_dir, 'train')\n",
    "#     test_path = join(dataset_dir, 'test')\n",
    "#     val_path = join(dataset_dir, 'val')    \n",
    "#     os.makedirs(train_path)\n",
    "#     os.makedirs(test_path) \n",
    "#     os.makedirs(val_path)    \n",
    "    \n",
    "#     for seq, split in  seq_to_split_dict.items():\n",
    "#         seq_path = join(dataset_dir, seq)\n",
    "#         shutil.move(seq_path, join(dataset_dir, split)) \n",
    "    \n",
    "#     print('single_folder_to_dataset_split completed')            "
   ]
  },
  {
   "cell_type": "code",
   "execution_count": 33,
   "metadata": {},
   "outputs": [],
   "source": [
    "# def single_folder_to_dataset_partition(dataset_dir, seq_to_split_dict):\n",
    "#     ## assert that all the folders are present\n",
    "#     expected_seq_folders = list(seq_to_split_dict.keys()) + ['readMe.txt']\n",
    "#     current_dataset_dir  = os.listdir(dataset_dir) #store before adding new directories \n",
    "#     assert set(expected_seq_folders) == set(current_dataset_dir), f'the dataset dir does not match with what is expected - {set(expected_seq_folders) ^ set(current_dataset_dir)}'\n",
    "    \n",
    "#     ## create the new folders. \n",
    "#     instance_cholecseg8k_path = join(dataset_dir, 'Instance_CholecSeg8k')\n",
    "#     instance_cholect50_full_path = join(dataset_dir, 'Instance_CholecT50_full')\n",
    "#     instance_cholect50_sparse_path = join(dataset_dir, 'Instance_CholecT50_sparse')    \n",
    "\n",
    "    \n",
    "#     os.makedirs(instance_cholecseg8k_path)\n",
    "#     os.makedirs(instance_cholect50_full_path) \n",
    "#     os.makedirs(instance_cholect50_sparse_path)\n",
    "    \n",
    "#     for seq in current_dataset_dir:\n",
    "#         if seq == 'readMe.txt':\n",
    "#             continue \n",
    "        \n",
    "#         partition_name = seq.split('_')[-1]\n",
    "#         seq_path = join(dataset_dir, seq)\n",
    "#         if partition_name == 'full':\n",
    "#             shutil.move(seq_path, instance_cholect50_full_path)  \n",
    "#         elif partition_name == 'seg8k':\n",
    "#             shutil.move(seq_path, instance_cholecseg8k_path)  \n",
    "#         elif partition_name == 'sparse':\n",
    "#             shutil.move(seq_path, instance_cholect50_sparse_path) \n",
    "            \n",
    "#         else:\n",
    "#             raise ValueError(f'something is wrong with the static variable that generated seq_to_split_dict, {seq} is not accounted for')  \n",
    "           \n",
    "#     print('single_folder_to_dataset_partition completed')"
   ]
  },
  {
   "cell_type": "code",
   "execution_count": null,
   "metadata": {},
   "outputs": [],
   "source": [
    "# def dataset_partition_to_single_folder(dataset_dir, seq_to_split_dict):\n",
    "#     from collections import Counter\n",
    "#     current_dataset_dir  = os.listdir(dataset_dir)\n",
    "#     assert Counter(current_dataset_dir) == Counter(['Instance_CholecSeg8k',\n",
    "#                                                         'Instance_CholecT50_full',\n",
    "#                                                         'Instance_CholecT50_sparse', \n",
    "#                                                         'readMe.txt']), \"The dataset directory does not contain exactly Instance_CholecSeg8k, Instance_CholecT50_full, Instance_CholecT50_sparse and readMe.txt\"  \n",
    "            \n",
    "#     ## assert that dataset partitions contains the correct sequences.\n",
    "#     Instance_CholecSeg8k_seqs = os.listdir(join(dataset_dir,'Instance_CholecSeg8k'))\n",
    "#     Instance_CholecT50_full_seqs = os.listdir(join(dataset_dir,'Instance_CholecT50_full'))\n",
    "#     Instance_CholecT50_sparse_seqs = os.listdir(join(dataset_dir,'Instance_CholecT50_sparse'))\n",
    "    \n",
    "#     for seq in seq_to_split_dict.keys():\n",
    "#         partition_name = seq.split('_')[-1]\n",
    "#         if partition_name == 'full':\n",
    "#             assert seq in Instance_CholecT50_full_seqs,  f'{seq} is missing from the Instance_CholecT50_full partition of the dataset'  \n",
    "#         elif partition_name == 'seg8k':\n",
    "#             assert seq in Instance_CholecSeg8k_seqs,  f'{seq} is missing from the Instance_CholecSeg8k partition of the dataset'\n",
    "#         elif partition_name == 'sparse':\n",
    "#             assert seq in Instance_CholecT50_sparse_seqs,  f'{seq} is missing from the Instance_CholecT50_sparse partition of the dataset'    \n",
    "#         else:\n",
    "#             raise ValueError(f'something is wrong with the static variable that generated seq_to_split_dict, {seq} is not accounted for')  \n",
    "        \n",
    "    \n",
    "#     for partition in current_dataset_dir:\n",
    "#         if os.path.isdir(join(dataset_dir, partition)):\n",
    "#             for seq in os.listdir(join(dataset_dir, partition)):\n",
    "#                 seq_path = join(dataset_dir, partition, seq)\n",
    "#                 shutil.move(seq_path, dataset_dir)    \n",
    "#             os.rmdir(join(dataset_dir, partition))      \n",
    "    \n",
    "#     print('dataset_partition_to_single_folder completed')"
   ]
  },
  {
   "cell_type": "markdown",
   "metadata": {},
   "source": [
    "## standard mmdetection_format"
   ]
  },
  {
   "cell_type": "markdown",
   "metadata": {},
   "source": [
    "the standard mmdetection format is a single img_dir and ann_dir since I am still working with the image this is okay, but it would not be okay to train a model this way. For the sequence training, this is okay, but it is not okay after this"
   ]
  },
  {
   "cell_type": "code",
   "execution_count": 4,
   "metadata": {},
   "outputs": [
    {
     "name": "stdout",
     "output_type": "stream",
     "text": [
      "The autoreload extension is already loaded. To reload it, use:\n",
      "  %reload_ext autoreload\n"
     ]
    }
   ],
   "source": [
    "%load_ext autoreload\n",
    "%autoreload 2"
   ]
  },
  {
   "cell_type": "code",
   "execution_count": 5,
   "metadata": {},
   "outputs": [],
   "source": [
    "import sys\n",
    "sys.path.append('../..')"
   ]
  },
  {
   "cell_type": "code",
   "execution_count": 6,
   "metadata": {},
   "outputs": [],
   "source": [
    "from static_variables.dataset_variables import CholecInstanceSegVariables\n",
    "import shutil\n",
    "import os\n",
    "from os.path import join\n",
    "from utils.dataset_conversion_split_partition import dataset_split_to_standard_mmdetection, generate_split_to_seq_dict"
   ]
  },
  {
   "cell_type": "code",
   "execution_count": 7,
   "metadata": {},
   "outputs": [],
   "source": [
    "seq_to_split_dict = CholecInstanceSegVariables.seq_to_split_dict\n",
    "split_to_seq_dict = generate_split_to_seq_dict()\n"
   ]
  },
  {
   "cell_type": "code",
   "execution_count": 8,
   "metadata": {},
   "outputs": [],
   "source": [
    "dataset_dir = 'C:/Users/tal22/Documents/repositories/generate_binary_and_instance_masks_for_cholecseg8k/datasets/instance_cholec_v9_during_quality_control'"
   ]
  },
  {
   "cell_type": "code",
   "execution_count": 10,
   "metadata": {},
   "outputs": [
    {
     "name": "stdout",
     "output_type": "stream",
     "text": [
      "all sequences can be found\n",
      "Files have been successfully moved.\n"
     ]
    }
   ],
   "source": [
    "dataset_split_to_standard_mmdetection(dataset_dir, split_to_seq_dict)"
   ]
  },
  {
   "cell_type": "code",
   "execution_count": 45,
   "metadata": {},
   "outputs": [
    {
     "name": "stdout",
     "output_type": "stream",
     "text": [
      "Files have been successfully reorganized into sequence folders.\n"
     ]
    }
   ],
   "source": [
    "convert_from_standard_mmdetection_form_to_single_folder(dataset_dir, seq_to_split_dict)"
   ]
  },
  {
   "cell_type": "code",
   "execution_count": 30,
   "metadata": {},
   "outputs": [],
   "source": []
  },
  {
   "cell_type": "code",
   "execution_count": 31,
   "metadata": {},
   "outputs": [],
   "source": []
  },
  {
   "cell_type": "code",
   "execution_count": 32,
   "metadata": {},
   "outputs": [],
   "source": []
  },
  {
   "cell_type": "code",
   "execution_count": 33,
   "metadata": {},
   "outputs": [
    {
     "name": "stdout",
     "output_type": "stream",
     "text": [
      "Files have been successfully reorganized into sequence folders.\n"
     ]
    }
   ],
   "source": []
  },
  {
   "cell_type": "code",
   "execution_count": null,
   "metadata": {},
   "outputs": [],
   "source": [
    "# import os\n",
    "# import shutil\n",
    "\n",
    "# # Define the dataset directory and the target directory\n",
    "# dataset_dir = '/path/to/your/dataset_dir'\n",
    "# target_dir = os.path.join(dataset_dir, 'all_seq_dataset')\n",
    "\n",
    "# # Create target directories for images and annotations if they do not exist\n",
    "\n"
   ]
  }
 ],
 "metadata": {
  "kernelspec": {
   "display_name": ".cholecinstanceseg",
   "language": "python",
   "name": "python3"
  },
  "language_info": {
   "codemirror_mode": {
    "name": "ipython",
    "version": 3
   },
   "file_extension": ".py",
   "mimetype": "text/x-python",
   "name": "python",
   "nbconvert_exporter": "python",
   "pygments_lexer": "ipython3",
   "version": "3.8.10"
  }
 },
 "nbformat": 4,
 "nbformat_minor": 2
}
