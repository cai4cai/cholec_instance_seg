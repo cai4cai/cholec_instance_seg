{
 "cells": [
  {
   "cell_type": "code",
   "execution_count": 1,
   "metadata": {},
   "outputs": [],
   "source": [
    "%load_ext autoreload\n",
    "%autoreload 2"
   ]
  },
  {
   "cell_type": "code",
   "execution_count": 2,
   "metadata": {},
   "outputs": [],
   "source": [
    "import sys\n",
    "sys.path.append(\"../..\")"
   ]
  },
  {
   "cell_type": "code",
   "execution_count": 3,
   "metadata": {},
   "outputs": [],
   "source": [
    "import os\n",
    "import numpy as np\n",
    "import matplotlib.pyplot as plt\n",
    "import cv2\n",
    "from os.path import join\n",
    "from utils.read_files import read_from_json"
   ]
  },
  {
   "cell_type": "code",
   "execution_count": 10,
   "metadata": {},
   "outputs": [],
   "source": [
    "# import numpy as np\n",
    "\n",
    "# def calculate_iou(mask1, mask2):\n",
    "#     \"\"\"Calculate the Intersection over Union (IoU) of two binary masks.\"\"\"\n",
    "#     intersection = np.logical_and(mask1, mask2).sum()\n",
    "#     union = np.logical_or(mask1, mask2).sum()\n",
    "#     iou = intersection / union if union != 0 else 0\n",
    "#     return iou\n",
    "\n",
    "# def compare_masks(masks):\n",
    "#     \"\"\"Compares each mask with every other mask in the list using IoU.\"\"\"\n",
    "#     num_masks = len(masks)\n",
    "#     results = []\n",
    "\n",
    "#     for i in range(num_masks):\n",
    "#         for j in range(i + 1, num_masks):\n",
    "#             mask1 = masks[i]['mask']\n",
    "#             mask2 = masks[j]['mask']\n",
    "#             iou_score = calculate_iou(mask1, mask2)\n",
    "#             result = {\n",
    "#                 'mask1_id': masks[i]['group_id'],\n",
    "#                 'mask1_label': masks[i]['label'],\n",
    "#                 'mask2_id': masks[j]['group_id'],\n",
    "#                 'mask2_label': masks[j]['label'],\n",
    "#                 'iou': iou_score\n",
    "#             }\n",
    "#             results.append(result)\n",
    "#     return results\n"
   ]
  },
  {
   "cell_type": "code",
   "execution_count": 11,
   "metadata": {},
   "outputs": [],
   "source": [
    "# def get_contours_with_bad_nms_for_seq(seq_dir, log_dir):\n",
    "#     ann_dir = join(seq_dir, 'ann_dir') \n",
    "#     img_dir = join(seq_dir, 'img_dir') \n",
    "    \n",
    "#     os.makedirs(log_dir, exist_ok=True)\n",
    "#     seq_name = seq_dir.split('/')[-1]\n",
    "#     split = seq_dir.split('/')[-2]\n",
    "#     nms_error_in_seq_dir_text_file = join(log_dir, f'{split}_{seq_name}.txt')\n",
    "    \n",
    "#     with open(nms_error_in_seq_dir_text_file, \"a\") as file:\n",
    "#         for ann_filename in os.listdir(ann_dir):\n",
    "#             img_filename = ann_filename.split('.')[0] + '.png'\n",
    "\n",
    "#             ann_filepath = os.path.join(ann_dir, ann_filename)\n",
    "#             img_filepath = os.path.join(img_dir, img_filename)\n",
    "            \n",
    "#             info = read_from_json(ann_filepath)\n",
    "#             info_shapes =  info['shapes']\n",
    "#             img = cv2.imread(img_filepath)\n",
    "#             shape = img.shape[:2]\n",
    "            \n",
    "#             masks = []\n",
    "#             for shape_info in info_shapes:\n",
    "#                 group_id = shape_info['group_id']\n",
    "#                 label = shape_info['label']    \n",
    "#                 points = shape_info['points']\n",
    "#                 mask = np.zeros(shape, dtype=np.uint8)\n",
    "#                 # Reshape the flattened XY coordinates into an array of shape (num_points, 2)\n",
    "#                 contour_np = np.array(points, dtype=np.int32).reshape((-1, 2))\n",
    "#                 # Connect the last point to the first one to ensure closure\n",
    "#                 contour_np = np.vstack([contour_np, contour_np[0]])\n",
    "                \n",
    "#                 cv2.fillPoly(mask, [np.array(contour_np)], 255)\n",
    "                \n",
    "#                 mask_info = {\n",
    "#                     'group_id': group_id,\n",
    "#                     'label': label,\n",
    "#                     'mask': mask, \n",
    "#                 }\n",
    "                \n",
    "#                 masks.append(mask_info)\n",
    "                \n",
    "#             iou_results = compare_masks(masks)\n",
    "\n",
    "#             # Output results\n",
    "            \n",
    "            \n",
    "#             for result in iou_results:\n",
    "#                 if result['iou'] > 0.8:\n",
    "#                     file.write( '====================================================\\n' )    \n",
    "#                     file.write(f\"{ann_filename}, Comparison between {result['mask1_label']}_{result['mask1_id']} and {result['mask2_label']}_{result['mask2_id']}: IoU = {result['iou']:.2f}\\n\")          \n",
    "    "
   ]
  },
  {
   "cell_type": "code",
   "execution_count": 4,
   "metadata": {},
   "outputs": [],
   "source": [
    "# dataset_dir = 'C:/Users/tal22/Documents/repositories/generate_binary_and_instance_masks_for_cholecseg8k/datasets/instance_cholec_v5_during_quality_control/'\n",
    "# log_dir = '../../logs/nms_error_in_seq'"
   ]
  },
  {
   "cell_type": "code",
   "execution_count": 5,
   "metadata": {},
   "outputs": [],
   "source": [
    "# from quality_control_scripts.quality_control_utils import perform_quality_control_for_dataset\n",
    "# from quality_control_scripts.solve_nms_error import get_contours_with_bad_nms_for_seq"
   ]
  },
  {
   "cell_type": "code",
   "execution_count": 7,
   "metadata": {},
   "outputs": [],
   "source": [
    "# perform_quality_control_for_dataset(dataset_dir, get_contours_with_bad_nms_for_seq, log_dir)"
   ]
  },
  {
   "cell_type": "code",
   "execution_count": 75,
   "metadata": {},
   "outputs": [
    {
     "name": "stdout",
     "output_type": "stream",
     "text": [
      "Comparison between grasper_1 and hook_1: IoU = 0.00\n",
      "Comparison between grasper_1 and hook_1: IoU = 0.00\n",
      "Comparison between hook_1 and hook_1: IoU = 0.94\n"
     ]
    }
   ],
   "source": [
    "# # Assuming 'masks_list' is your provided list of masks\n",
    "# masks_list = masks\n",
    "# # Fill your masks with actual data instead of zeros in practical scenarios\n",
    "# iou_results = compare_masks(masks_list)\n",
    "\n",
    "# # Output results\n",
    "# for result in iou_results:\n",
    "#     print(f\"Comparison between {result['mask1_label']}_{result['mask1_id']} and {result['mask2_label']}_{result['mask1_id']}: IoU = {result['iou']:.2f}\")"
   ]
  },
  {
   "cell_type": "code",
   "execution_count": null,
   "metadata": {},
   "outputs": [],
   "source": []
  }
 ],
 "metadata": {
  "kernelspec": {
   "display_name": ".cholecinstanceseg",
   "language": "python",
   "name": "python3"
  },
  "language_info": {
   "codemirror_mode": {
    "name": "ipython",
    "version": 3
   },
   "file_extension": ".py",
   "mimetype": "text/x-python",
   "name": "python",
   "nbconvert_exporter": "python",
   "pygments_lexer": "ipython3",
   "version": "3.8.10"
  }
 },
 "nbformat": 4,
 "nbformat_minor": 2
}
