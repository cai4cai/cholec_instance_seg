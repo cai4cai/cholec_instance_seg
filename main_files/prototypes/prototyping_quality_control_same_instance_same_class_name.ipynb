{
 "cells": [
  {
   "cell_type": "code",
   "execution_count": 1,
   "metadata": {},
   "outputs": [],
   "source": [
    "%load_ext autoreload\n",
    "%autoreload 2"
   ]
  },
  {
   "cell_type": "code",
   "execution_count": 2,
   "metadata": {},
   "outputs": [],
   "source": [
    "import sys\n",
    "sys.path.append(\"../..\")"
   ]
  },
  {
   "cell_type": "code",
   "execution_count": 3,
   "metadata": {},
   "outputs": [],
   "source": [
    "import os\n",
    "import numpy as np\n",
    "import matplotlib.pyplot as plt\n",
    "import cv2\n",
    "from os.path import join\n",
    "from utils.read_files import read_from_json"
   ]
  },
  {
   "cell_type": "code",
   "execution_count": 4,
   "metadata": {},
   "outputs": [],
   "source": [
    "dataset_dir = 'C:/Users/tal22/Documents/repositories/generate_binary_and_instance_masks_for_cholecseg8k/datasets/instance_cholec_v5_during_quality_control/'\n",
    "log_dir = '../../logs/same_instance_and_class'"
   ]
  },
  {
   "cell_type": "code",
   "execution_count": 5,
   "metadata": {},
   "outputs": [],
   "source": [
    "from quality_control_scripts.quality_control_utils import perform_quality_control_for_dataset"
   ]
  },
  {
   "cell_type": "code",
   "execution_count": 6,
   "metadata": {},
   "outputs": [],
   "source": [
    "def get_contours_with_same_instance_and_class_for_seq(seq_dir, log_dir):\n",
    "    ann_dir = join(seq_dir, 'ann_dir') \n",
    "    img_dir = join(seq_dir, 'img_dir') \n",
    "    \n",
    "    os.makedirs(log_dir, exist_ok=True)\n",
    "    seq_name = seq_dir.split('/')[-1]\n",
    "    split = seq_dir.split('/')[-2]\n",
    "    nms_error_in_seq_dir_text_file = join(log_dir, f'{split}_{seq_name}.txt')\n",
    "    \n",
    "    with open(nms_error_in_seq_dir_text_file, \"a\") as file:\n",
    "        previous_file_id_with_error = 0\n",
    "        \n",
    "        for ann_filename in os.listdir(ann_dir):\n",
    "            ann_filepath = os.path.join(ann_dir, ann_filename)\n",
    "            ann_id = int(ann_filename.split('_')[-1].split('.')[0])\n",
    "            \n",
    "            info = read_from_json(ann_filepath)\n",
    "            info_shapes =  info['shapes']\n",
    "            \n",
    "            \n",
    "            num_shapes = len(info_shapes)\n",
    "            for i in range(num_shapes):\n",
    "                for j in range(i + 1, num_shapes):\n",
    "                    group_id_1 = info_shapes[i]['group_id']\n",
    "                    label_1 = info_shapes[i]['label']   \n",
    "                    group_id_2 = info_shapes[j]['group_id']\n",
    "                    label_2 = info_shapes[j]['label'] \n",
    "                    \n",
    "                    if label_1 == label_2 and group_id_1 == group_id_2:\n",
    "                        if ann_id - previous_file_id_with_error > 1:\n",
    "                               file.write( '****************************************************\\n' )\n",
    "                        file.write( '==========================\\n' )    \n",
    "                        file.write(f\"{ann_filename}, has multiple {label_1}_{group_id_1}\\n\")\n",
    "                        \n",
    "                        previous_file_id_with_error = ann_id\n",
    "                        \n"
   ]
  },
  {
   "cell_type": "code",
   "execution_count": 7,
   "metadata": {},
   "outputs": [],
   "source": [
    "a = 't50_VID14_001043.json'\n",
    "b = 'seg8k_video12_015904.json'"
   ]
  },
  {
   "cell_type": "code",
   "execution_count": 8,
   "metadata": {},
   "outputs": [
    {
     "data": {
      "text/plain": [
       "1043"
      ]
     },
     "execution_count": 8,
     "metadata": {},
     "output_type": "execute_result"
    }
   ],
   "source": [
    "int(a.split('_')[-1].split('.')[0])"
   ]
  },
  {
   "cell_type": "code",
   "execution_count": 10,
   "metadata": {},
   "outputs": [
    {
     "name": "stdout",
     "output_type": "stream",
     "text": [
      "VID09_seg8k completed\n",
      "VID14_t50_full completed\n",
      "VID15_t50_full completed\n",
      "VID20_seg8k completed\n",
      "VID22_t50_full completed\n",
      "VID24_seg8k completed\n",
      "VID29_t50_full completed\n",
      "VID55_seg8k completed\n",
      "VID01_seg8k completed\n",
      "VID01_t50_full completed\n",
      "VID02_t50_sparse completed\n",
      "VID04_t50_sparse completed\n",
      "VID05_t50_sparse completed\n",
      "VID06_t50_sparse completed\n",
      "VID08_t50_sparse completed\n",
      "VID103_t50_sparse completed\n",
      "VID10_t50_sparse completed\n",
      "VID110_t50_sparse completed\n",
      "VID111_t50_sparse completed\n",
      "VID12_seg8k completed\n",
      "VID12_t50_full completed\n",
      "VID13_t50_sparse completed\n",
      "VID18_seg8k completed\n",
      "VID18_t50_full completed\n",
      "VID25_seg8k completed\n",
      "VID25_t50_full completed\n",
      "VID26_seg8k completed\n",
      "VID26_t50_full completed\n",
      "VID27_seg8k completed\n",
      "VID27_t50_full completed\n",
      "VID31_t50_sparse completed\n",
      "VID32_t50_sparse completed\n",
      "VID35_seg8k completed\n",
      "VID35_t50_full completed\n",
      "VID36_t50_sparse completed\n",
      "VID40_t50_sparse completed\n",
      "VID42_t50_sparse completed\n",
      "VID43_seg8k completed\n",
      "VID43_t50_full completed\n",
      "VID47_t50_sparse completed\n",
      "VID48_seg8k completed\n",
      "VID48_t50_full completed\n",
      "VID49_t50_sparse completed\n",
      "VID50_t50_sparse completed\n",
      "VID51_t50_sparse completed\n",
      "VID52_seg8k completed\n",
      "VID52_t50_full completed\n",
      "VID56_t50_sparse completed\n",
      "VID57_t50_sparse completed\n",
      "VID60_t50_sparse completed\n",
      "VID62_t50_sparse completed\n",
      "VID65_t50_sparse completed\n",
      "VID66_t50_sparse completed\n",
      "VID68_t50_sparse completed\n",
      "VID70_t50_sparse completed\n",
      "VID73_t50_sparse completed\n",
      "VID74_t50_sparse completed\n",
      "VID75_t50_sparse completed\n",
      "VID78_t50_sparse completed\n",
      "VID79_t50_sparse completed\n",
      "VID80_t50_sparse completed\n",
      "VID92_t50_sparse completed\n",
      "VID96_t50_sparse completed\n",
      "VID17_seg8k completed\n",
      "VID23_t50_full completed\n",
      "VID28_seg8k completed\n",
      "VID37_seg8k completed\n"
     ]
    }
   ],
   "source": [
    "perform_quality_control_for_dataset(dataset_dir, get_contours_with_same_instance_and_class_for_seq, log_dir)"
   ]
  },
  {
   "cell_type": "code",
   "execution_count": null,
   "metadata": {},
   "outputs": [],
   "source": []
  },
  {
   "cell_type": "code",
   "execution_count": null,
   "metadata": {},
   "outputs": [],
   "source": []
  },
  {
   "cell_type": "code",
   "execution_count": null,
   "metadata": {},
   "outputs": [],
   "source": []
  }
 ],
 "metadata": {
  "kernelspec": {
   "display_name": ".cholecinstanceseg",
   "language": "python",
   "name": "python3"
  },
  "language_info": {
   "codemirror_mode": {
    "name": "ipython",
    "version": 3
   },
   "file_extension": ".py",
   "mimetype": "text/x-python",
   "name": "python",
   "nbconvert_exporter": "python",
   "pygments_lexer": "ipython3",
   "version": "3.8.10"
  }
 },
 "nbformat": 4,
 "nbformat_minor": 2
}
