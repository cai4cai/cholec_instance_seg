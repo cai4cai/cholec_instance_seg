{
 "cells": [
  {
   "cell_type": "code",
   "execution_count": 1,
   "metadata": {},
   "outputs": [],
   "source": [
    "%load_ext autoreload\n",
    "%autoreload 2"
   ]
  },
  {
   "cell_type": "code",
   "execution_count": 2,
   "metadata": {},
   "outputs": [],
   "source": [
    "import sys\n",
    "sys.path.append(\"../..\")"
   ]
  },
  {
   "cell_type": "code",
   "execution_count": 8,
   "metadata": {},
   "outputs": [],
   "source": [
    "dataset_dir = 'C:/Users/tal22/Documents/repositories/generate_binary_and_instance_masks_for_cholecseg8k/datasets/instance_cholec_v8_during_quality_control/'\n",
    "# log_dir = '../../logs/nms_error_in_seq'\n",
    "log_dir = '../../logs/all_iou_error_in_seq'"
   ]
  },
  {
   "cell_type": "code",
   "execution_count": 9,
   "metadata": {},
   "outputs": [],
   "source": [
    "from quality_control_scripts.quality_control_utils import perform_quality_control_for_dataset\n",
    "from quality_control_scripts.solve_nms_error import get_contours_with_bad_nms_for_seq"
   ]
  },
  {
   "cell_type": "code",
   "execution_count": 10,
   "metadata": {},
   "outputs": [
    {
     "name": "stdout",
     "output_type": "stream",
     "text": [
      "VID09_seg8k completed\n",
      "VID14_t50_full completed\n",
      "VID15_t50_full completed\n",
      "VID20_seg8k completed\n",
      "VID22_t50_full completed\n",
      "VID24_seg8k completed\n",
      "VID29_t50_full completed\n",
      "VID55_seg8k completed\n",
      "VID01_seg8k completed\n",
      "VID01_t50_full completed\n",
      "VID02_t50_sparse completed\n",
      "VID04_t50_sparse completed\n",
      "VID05_t50_sparse completed\n",
      "VID06_t50_sparse completed\n",
      "VID08_t50_sparse completed\n",
      "VID103_t50_sparse completed\n",
      "VID10_t50_sparse completed\n",
      "VID110_t50_sparse completed\n",
      "VID111_t50_sparse completed\n",
      "VID12_seg8k completed\n",
      "VID12_t50_full completed\n",
      "VID13_t50_sparse completed\n",
      "VID18_seg8k completed\n",
      "VID18_t50_full completed\n",
      "VID25_seg8k completed\n",
      "VID25_t50_full completed\n",
      "VID26_seg8k completed\n",
      "VID26_t50_full completed\n",
      "VID27_seg8k completed\n",
      "VID27_t50_full completed\n",
      "VID31_t50_sparse completed\n",
      "VID32_t50_sparse completed\n",
      "VID35_seg8k completed\n",
      "VID35_t50_full completed\n",
      "VID36_t50_sparse completed\n",
      "VID40_t50_sparse completed\n",
      "VID42_t50_sparse completed\n",
      "VID43_seg8k completed\n",
      "VID43_t50_full completed\n",
      "VID47_t50_sparse completed\n",
      "VID48_seg8k completed\n",
      "VID48_t50_full completed\n",
      "VID49_t50_sparse completed\n",
      "VID50_t50_sparse completed\n",
      "VID51_t50_sparse completed\n",
      "VID52_seg8k completed\n",
      "VID52_t50_full completed\n",
      "VID56_t50_sparse completed\n",
      "VID57_t50_sparse completed\n",
      "VID60_t50_sparse completed\n",
      "VID62_t50_sparse completed\n",
      "VID65_t50_sparse completed\n",
      "VID66_t50_sparse completed\n",
      "VID68_t50_sparse completed\n",
      "VID70_t50_sparse completed\n",
      "VID73_t50_sparse completed\n",
      "VID74_t50_sparse completed\n",
      "VID75_t50_sparse completed\n",
      "VID78_t50_sparse completed\n",
      "VID79_t50_sparse completed\n",
      "VID80_t50_sparse completed\n",
      "VID92_t50_sparse completed\n",
      "VID96_t50_sparse completed\n",
      "VID17_seg8k completed\n",
      "VID23_t50_full completed\n",
      "VID28_seg8k completed\n",
      "VID37_seg8k completed\n"
     ]
    }
   ],
   "source": [
    "perform_quality_control_for_dataset(dataset_dir, get_contours_with_bad_nms_for_seq, log_dir)"
   ]
  },
  {
   "cell_type": "code",
   "execution_count": null,
   "metadata": {},
   "outputs": [],
   "source": []
  }
 ],
 "metadata": {
  "kernelspec": {
   "display_name": ".cholecinstanceseg",
   "language": "python",
   "name": "python3"
  },
  "language_info": {
   "codemirror_mode": {
    "name": "ipython",
    "version": 3
   },
   "file_extension": ".py",
   "mimetype": "text/x-python",
   "name": "python",
   "nbconvert_exporter": "python",
   "pygments_lexer": "ipython3",
   "version": "3.8.10"
  }
 },
 "nbformat": 4,
 "nbformat_minor": 2
}
