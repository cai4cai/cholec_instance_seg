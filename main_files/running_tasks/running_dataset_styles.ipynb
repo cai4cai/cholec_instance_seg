{
 "cells": [
  {
   "cell_type": "markdown",
   "metadata": {},
   "source": [
    "## Move dataset around. \n",
    "\n",
    "I need to write six functions, well only three, but the other three will use the other three functions. "
   ]
  },
  {
   "cell_type": "code",
   "execution_count": 1,
   "metadata": {},
   "outputs": [],
   "source": [
    "%load_ext autoreload\n",
    "%autoreload 2"
   ]
  },
  {
   "cell_type": "code",
   "execution_count": 2,
   "metadata": {},
   "outputs": [],
   "source": [
    "import sys\n",
    "sys.path.append('../..')"
   ]
  },
  {
   "cell_type": "code",
   "execution_count": 3,
   "metadata": {},
   "outputs": [],
   "source": [
    "from utils.static_variables.dataset_variables import CholecInstanceSegVariables\n",
    "import shutil\n",
    "import os\n",
    "from os.path import join\n",
    "from utils.dataset_conversion_split_partition import dataset_split_to_dataset_partition, dataset_partition_to_dataset_split, dataset_partition_to_dataset_seqs, dataset_seqs_to_dataset_partition\n",
    "from utils.dataset_conversion_split_partition import dataset_split_to_dataset_seqs, dataset_split_to_standard_mmdetection_form, standard_mmdetection_form_to_dataset_seqs, dataset_seqs_to_dataset_split"
   ]
  },
  {
   "cell_type": "code",
   "execution_count": 4,
   "metadata": {},
   "outputs": [],
   "source": [
    "dataset_dir = 'C:/Users/tal22/Documents/repositories/generate_binary_and_instance_masks_for_cholecseg8k/datasets/final_cholecinstanceseg'"
   ]
  },
  {
   "cell_type": "code",
   "execution_count": 5,
   "metadata": {},
   "outputs": [],
   "source": [
    "seq_to_split_dict = CholecInstanceSegVariables.seq_to_split_dict\n"
   ]
  },
  {
   "cell_type": "code",
   "execution_count": 6,
   "metadata": {},
   "outputs": [
    {
     "name": "stdout",
     "output_type": "stream",
     "text": [
      "all sequences can be found\n",
      "dataset_partition_to_dataset_split completed\n"
     ]
    }
   ],
   "source": [
    "dataset_partition_to_dataset_split(dataset_dir, seq_to_split_dict)"
   ]
  },
  {
   "cell_type": "code",
   "execution_count": null,
   "metadata": {},
   "outputs": [],
   "source": [
    "dataset_split_to_dataset_partition(dataset_dir, seq_to_split_dict)"
   ]
  },
  {
   "cell_type": "code",
   "execution_count": 13,
   "metadata": {},
   "outputs": [
    {
     "name": "stdout",
     "output_type": "stream",
     "text": [
      "all sequences can be found\n",
      "dataset_partition_to_single_folder completed\n"
     ]
    }
   ],
   "source": [
    "dataset_partition_to_dataset_seqs(dataset_dir, seq_to_split_dict) "
   ]
  },
  {
   "cell_type": "code",
   "execution_count": 14,
   "metadata": {},
   "outputs": [
    {
     "name": "stdout",
     "output_type": "stream",
     "text": [
      "dataset_seqs_to_dataset_partition completed\n"
     ]
    }
   ],
   "source": [
    "dataset_seqs_to_dataset_partition(dataset_dir, seq_to_split_dict) "
   ]
  },
  {
   "cell_type": "code",
   "execution_count": 16,
   "metadata": {},
   "outputs": [
    {
     "name": "stdout",
     "output_type": "stream",
     "text": [
      "all sequences can be found\n",
      "dataset_split_to_single_folder completed\n"
     ]
    }
   ],
   "source": [
    "dataset_split_to_dataset_seqs(dataset_dir, seq_to_split_dict) "
   ]
  },
  {
   "cell_type": "code",
   "execution_count": null,
   "metadata": {},
   "outputs": [],
   "source": [
    "dataset_seqs_to_dataset_split(dataset_dir, seq_to_split_dict)"
   ]
  },
  {
   "cell_type": "code",
   "execution_count": 6,
   "metadata": {},
   "outputs": [
    {
     "name": "stdout",
     "output_type": "stream",
     "text": [
      "all sequences can be found\n",
      "Files have been successfully moved.\n"
     ]
    }
   ],
   "source": [
    "dataset_split_to_standard_mmdetection_form(dataset_dir, seq_to_split_dict)"
   ]
  },
  {
   "cell_type": "code",
   "execution_count": null,
   "metadata": {},
   "outputs": [],
   "source": [
    "standard_mmdetection_form_to_dataset_seqs(dataset_dir, seq_to_split_dict)"
   ]
  },
  {
   "cell_type": "code",
   "execution_count": null,
   "metadata": {},
   "outputs": [],
   "source": []
  }
 ],
 "metadata": {
  "kernelspec": {
   "display_name": ".cholecinstanceseg",
   "language": "python",
   "name": "python3"
  },
  "language_info": {
   "codemirror_mode": {
    "name": "ipython",
    "version": 3
   },
   "file_extension": ".py",
   "mimetype": "text/x-python",
   "name": "python",
   "nbconvert_exporter": "python",
   "pygments_lexer": "ipython3",
   "version": "3.8.10"
  }
 },
 "nbformat": 4,
 "nbformat_minor": 2
}
