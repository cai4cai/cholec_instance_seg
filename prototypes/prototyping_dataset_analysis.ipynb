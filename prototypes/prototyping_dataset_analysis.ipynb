{
 "cells": [
  {
   "cell_type": "code",
   "execution_count": 1,
   "metadata": {},
   "outputs": [],
   "source": [
    "%load_ext autoreload\n",
    "%autoreload 2"
   ]
  },
  {
   "cell_type": "code",
   "execution_count": 2,
   "metadata": {},
   "outputs": [],
   "source": [
    "import sys\n",
    "sys.path.append(\"..\")"
   ]
  },
  {
   "cell_type": "code",
   "execution_count": 3,
   "metadata": {},
   "outputs": [],
   "source": [
    "from utils.dataset_metadata import DatasetMetadata"
   ]
  },
  {
   "cell_type": "code",
   "execution_count": 4,
   "metadata": {},
   "outputs": [],
   "source": [
    "path_to_dataset = 'C:/Users/tal22/Documents/repositories/generate_binary_and_instance_masks_for_cholecseg8k/datasets/instance_cholec_v1_before_quality_control'\n",
    "dataset_name = 'instance_cholec_v1_before_quality_control'\n",
    "dataset_style = \"split_seq_img_dir-ann_dir\""
   ]
  },
  {
   "cell_type": "code",
   "execution_count": 5,
   "metadata": {},
   "outputs": [],
   "source": [
    "dataset = DatasetMetadata(path_to_dataset=path_to_dataset,\n",
    "                                          dataset_name=dataset_name,\n",
    "                                          dataset_style=dataset_style)\n",
    "                "
   ]
  },
  {
   "cell_type": "code",
   "execution_count": 6,
   "metadata": {},
   "outputs": [],
   "source": [
    "dataset_metadata = dataset.get_dataset_metadata()"
   ]
  },
  {
   "cell_type": "code",
   "execution_count": 7,
   "metadata": {},
   "outputs": [],
   "source": [
    "from dataset_analysis_scripts.count_files import count_sizes_in_my_dataset"
   ]
  },
  {
   "cell_type": "code",
   "execution_count": 8,
   "metadata": {},
   "outputs": [
    {
     "name": "stdout",
     "output_type": "stream",
     "text": [
      "Entering base data structure\n",
      "   Entering sub-dictionary key 'test'\n",
      "      Size of seq 'VID09_seg8k': 240\n",
      "      Size of seq 'VID14_t50_full': 1709\n",
      "      Size of seq 'VID15_t50_full': 2059\n",
      "      Size of seq 'VID20_seg8k': 160\n",
      "      Size of seq 'VID22_t50_full': 1533\n",
      "      Size of seq 'VID24_seg8k': 960\n",
      "      Size of seq 'VID29_t50_full': 2351\n",
      "      Size of seq 'VID55_seg8k': 240\n",
      "   Total count in sub-dictionary at key 'test': 9252\n",
      "   Entering sub-dictionary key 'train'\n",
      "      Size of seq 'VID01_seg8k': 1280\n",
      "      Size of seq 'VID01_t50_full': 1734\n",
      "      Size of seq 'VID02_t50_sparse': 124\n",
      "      Size of seq 'VID04_t50_sparse': 70\n",
      "      Size of seq 'VID05_t50_sparse': 103\n",
      "      Size of seq 'VID06_t50_sparse': 93\n",
      "      Size of seq 'VID08_t50_sparse': 64\n",
      "      Size of seq 'VID103_t50_sparse': 74\n",
      "      Size of seq 'VID10_t50_sparse': 59\n",
      "      Size of seq 'VID110_t50_sparse': 73\n",
      "      Size of seq 'VID111_t50_sparse': 72\n",
      "      Size of seq 'VID12_seg8k': 640\n",
      "      Size of seq 'VID12_t50_full': 1091\n",
      "      Size of seq 'VID13_t50_sparse': 55\n",
      "      Size of seq 'VID18_seg8k': 160\n",
      "      Size of seq 'VID18_t50_full': 1943\n",
      "      Size of seq 'VID25_seg8k': 320\n",
      "      Size of seq 'VID25_t50_full': 2130\n",
      "      Size of seq 'VID26_seg_8k': 320\n",
      "      Size of seq 'VID26_t50_full': 1774\n",
      "      Size of seq 'VID27_seg8k': 400\n",
      "      Size of seq 'VID27_t50_full': 2085\n",
      "      Size of seq 'VID31_t50_sparse': 132\n",
      "      Size of seq 'VID32_t50_sparse': 71\n",
      "      Size of seq 'VID35_seg8k': 240\n",
      "      Size of seq 'VID35_t50_full': 2107\n",
      "      Size of seq 'VID36_t50_sparse': 80\n",
      "      Size of seq 'VID40_t50_sparse': 75\n",
      "      Size of seq 'VID42_t50_sparse': 124\n",
      "      Size of seq 'VID43_seg8k': 720\n",
      "      Size of seq 'VID43_t50_full': 2363\n",
      "      Size of seq 'VID47_t50_sparse': 76\n",
      "      Size of seq 'VID48_seg8k': 240\n",
      "      Size of seq 'VID48_t50_full': 1835\n",
      "      Size of seq 'VID49_t50_sparse': 56\n",
      "      Size of seq 'VID50_t50_sparse': 63\n",
      "      Size of seq 'VID51_t50_sparse': 99\n",
      "      Size of seq 'VID52_seg8k': 800\n",
      "      Size of seq 'VID52_t50_full': 1967\n",
      "      Size of seq 'VID56_t50_sparse': 62\n",
      "      Size of seq 'VID57_t50_sparse': 88\n",
      "      Size of seq 'VID60_t50_sparse': 85\n",
      "      Size of seq 'VID62_t50_sparse': 68\n",
      "      Size of seq 'VID65_t50_sparse': 63\n",
      "      Size of seq 'VID66_t50_sparse': 61\n",
      "      Size of seq 'VID68_t50_sparse': 66\n",
      "      Size of seq 'VID70_t50_sparse': 69\n",
      "      Size of seq 'VID73_t50_sparse': 78\n",
      "      Size of seq 'VID74_t50_sparse': 55\n",
      "      Size of seq 'VID75_t50_sparse': 65\n",
      "      Size of seq 'VID78_t50_sparse': 58\n",
      "      Size of seq 'VID79_t50_sparse': 114\n",
      "      Size of seq 'VID80_t50_sparse': 58\n",
      "      Size of seq 'VID92_t50_sparse': 71\n",
      "      Size of seq 'VID96_t50_sparse': 57\n",
      "   Total count in sub-dictionary at key 'train': 26830\n",
      "   Entering sub-dictionary key 'val'\n",
      "      Size of seq 'VID17_seg8k': 320\n",
      "      Size of seq 'VID23_t50_full': 1636\n",
      "      Size of seq 'VID28_seg8k': 560\n",
      "      Size of seq 'VID37_seg8k': 480\n",
      "   Total count in sub-dictionary at key 'val': 2996\n",
      "Total count of all lists: 39078\n"
     ]
    }
   ],
   "source": [
    "total_count = count_sizes_in_my_dataset(dataset_metadata)\n",
    "print(f\"Total count images in the dataset: {total_count}\")\n"
   ]
  },
  {
   "cell_type": "markdown",
   "metadata": {},
   "source": [
    "### Counting frequency in an image"
   ]
  },
  {
   "cell_type": "code",
   "execution_count": 8,
   "metadata": {},
   "outputs": [],
   "source": [
    "import sys\n",
    "sys.path.append(\"..\")"
   ]
  },
  {
   "cell_type": "code",
   "execution_count": 9,
   "metadata": {},
   "outputs": [],
   "source": [
    "from utils.read_files import read_from_json"
   ]
  },
  {
   "cell_type": "code",
   "execution_count": 13,
   "metadata": {},
   "outputs": [],
   "source": [
    "a = 'test_assets/test_dataset_metadata/img_annotation_just_2_files\\\\train\\\\seq1\\\\img_dir\\\\test - Copy.png'"
   ]
  },
  {
   "cell_type": "code",
   "execution_count": 16,
   "metadata": {},
   "outputs": [
    {
     "data": {
      "text/plain": [
       "['test_assets',\n",
       " 'test_dataset_metadata',\n",
       " 'img_annotation_just_2_files',\n",
       " 'train',\n",
       " 'seq1',\n",
       " 'img_dir',\n",
       " 'test - Copy.png']"
      ]
     },
     "execution_count": 16,
     "metadata": {},
     "output_type": "execute_result"
    }
   ],
   "source": [
    "a = a.replace('\\\\', '/')\n",
    "a.split('/')"
   ]
  },
  {
   "cell_type": "code",
   "execution_count": 12,
   "metadata": {},
   "outputs": [
    {
     "name": "stdout",
     "output_type": "stream",
     "text": [
      "grasper\n",
      "1\n",
      "hook\n",
      "1\n",
      "grasper\n",
      "2\n"
     ]
    }
   ],
   "source": [
    "ann = read_from_json('../t50_VID02_000828.json')\n",
    "for shape in ann['shapes']:\n",
    "    print(shape['label'])\n",
    "    print(shape['group_id'])"
   ]
  },
  {
   "cell_type": "code",
   "execution_count": 1,
   "metadata": {},
   "outputs": [],
   "source": [
    "ann_with_annotation_class_and_numbering_errors_in_dataset = {}"
   ]
  },
  {
   "cell_type": "code",
   "execution_count": 6,
   "metadata": {},
   "outputs": [],
   "source": [
    "ann_with_annotation_class_and_numbering_errors_in_dataset['a'] = {}"
   ]
  },
  {
   "cell_type": "code",
   "execution_count": 7,
   "metadata": {},
   "outputs": [],
   "source": [
    "ann_with_annotation_class_and_numbering_errors_in_dataset['a']['b'] = 5"
   ]
  },
  {
   "cell_type": "code",
   "execution_count": 8,
   "metadata": {},
   "outputs": [
    {
     "data": {
      "text/plain": [
       "{'a': {'b': 5}}"
      ]
     },
     "execution_count": 8,
     "metadata": {},
     "output_type": "execute_result"
    }
   ],
   "source": [
    "ann_with_annotation_class_and_numbering_errors_in_dataset"
   ]
  },
  {
   "cell_type": "code",
   "execution_count": null,
   "metadata": {},
   "outputs": [],
   "source": []
  }
 ],
 "metadata": {
  "kernelspec": {
   "display_name": ".cholecinstanceseg",
   "language": "python",
   "name": "python3"
  },
  "language_info": {
   "codemirror_mode": {
    "name": "ipython",
    "version": 3
   },
   "file_extension": ".py",
   "mimetype": "text/x-python",
   "name": "python",
   "nbconvert_exporter": "python",
   "pygments_lexer": "ipython3",
   "version": "3.8.10"
  }
 },
 "nbformat": 4,
 "nbformat_minor": 2
}
